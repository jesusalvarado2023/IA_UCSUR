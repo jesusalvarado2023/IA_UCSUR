{
  "nbformat": 4,
  "nbformat_minor": 0,
  "metadata": {
    "colab": {
      "provenance": [],
      "toc_visible": true
    },
    "kernelspec": {
      "name": "python3",
      "display_name": "Python 3"
    },
    "language_info": {
      "name": "python"
    }
  },
  "cells": [
    {
      "cell_type": "markdown",
      "metadata": {
        "id": "view-in-github"
      },
      "source": [
        "<img src=\"https://miro.medium.com/v2/resize:fit:1400/1*zomnCz8-VMgrSV8eLCx2tw.gif\" width=\"200\" alt=\"molecula\"  />\n",
        "\n",
        "$$\\Large \\textit{Cuaderno de Código #2 | Sesión Nº 4}$$\n",
        "\n",
        "---\n",
        "$$\\large\\textbf{VISIÓN POR COMPUTADOR}$$\n",
        "\n",
        "---\n",
        "$$\\textit{Curso: IA desde Cero}$$\n",
        "\n",
        "<br>\n",
        "<br>\n",
        "\n",
        "__Dr. Jesus Alvarado-Huayhuaz__"
      ]
    },
    {
      "cell_type": "markdown",
      "source": [
        "# 1. TEXTO A IMAGEN"
      ],
      "metadata": {
        "id": "vh7ddMTF66UF"
      }
    },
    {
      "cell_type": "code",
      "source": [
        "!nvidia-smi"
      ],
      "metadata": {
        "id": "xvgSXWcVhrkm"
      },
      "execution_count": null,
      "outputs": []
    },
    {
      "cell_type": "markdown",
      "source": [
        "**IMPORTANTE: Esta parte del COLAB requiere usar una GPU**"
      ],
      "metadata": {
        "id": "WM11puK768se"
      }
    },
    {
      "cell_type": "markdown",
      "source": [
        "Esta primera parte consiste en la generación de imágenes empleando HUGGINGFACE, que ya hemos realizado en la sesión 2, algunos de los modelos usados son los siguientes:\n",
        "\n",
        "- \"nota-ai/bk-sdm-small\"\n",
        "- \"CompVis/stable-diffusion-v1-4\"\n",
        "- \"runwayml/stable-diffusion-v1-5\"\n",
        "- \"prompthero/openjourney\"\n",
        "- \"hakurei/waifu-diffusion\"\n",
        "- \"stabilityai/stable-diffusion-2-1\"\n",
        "- \"dreamlike-art/dreamlike-photoreal-2.0\"\n",
        "- \"redstonehero/cetusmix_v4\"\n",
        "\n",
        "Te invito a probarlos en este cuaderno e identificar cuales son los más indicados para los distintos fines que se tienen. Además dispones de muchos otros en la página de https://huggingface.co/"
      ],
      "metadata": {
        "id": "br9edyUN-bng"
      }
    },
    {
      "cell_type": "markdown",
      "source": [
        "## Requerimientos"
      ],
      "metadata": {
        "id": "AI-5ULE9_9J_"
      }
    },
    {
      "cell_type": "code",
      "execution_count": null,
      "metadata": {
        "id": "GaGpmeILXSGl"
      },
      "outputs": [],
      "source": [
        "%%capture\n",
        "!pip install diffusers[\"torch\"] transformers\n",
        "!pip install accelerate\n",
        "!pip install git+https://github.com/huggingface/diffusers"
      ]
    },
    {
      "cell_type": "code",
      "source": [
        "import torch\n",
        "from diffusers import StableDiffusionPipeline"
      ],
      "metadata": {
        "id": "e_Zy0Syl1s1i"
      },
      "execution_count": null,
      "outputs": []
    },
    {
      "cell_type": "markdown",
      "source": [
        "## A. Portada de un libro"
      ],
      "metadata": {
        "id": "iLrRRL1G8q5C"
      }
    },
    {
      "cell_type": "code",
      "source": [
        "pipe = StableDiffusionPipeline.from_pretrained(\"digiplay/majicMIX_realistic_v6\", torch_dtype=torch.float16)\n",
        "pipe = pipe.to(\"cuda\")\n",
        "pipe.safety_checker = None"
      ],
      "metadata": {
        "collapsed": true,
        "id": "rwf-LrN91sye"
      },
      "execution_count": null,
      "outputs": []
    },
    {
      "cell_type": "code",
      "source": [
        "h=800\n",
        "w=640\n",
        "steps=25\n",
        "guidance=7.5\n",
        "neg = \"easynegative, lowres, bad anatomy, bad hands, text, error, missing fingers, extra digit, fewer digits, cropped, worstquality, low quality, normal quality, jpegartifacts, signature, watermark, username, blurry, bad feet, cropped, poorly drawn hands, poorly drawn face, mutation, deformed, worst quality, low quality, normal quality, jpeg artifacts, signature, watermark, extra fingers, fewer digits, extra limbs, extra arms,extra legs, malformed limbs, fused fingers, too many fingers, long neck, cross-eyed,mutated hands, polar lowres, bad body, bad proportions, gross proportions, text, error, missing fingers, missing arms, missing legs, extra digit, extra arms, extra leg, extra foot,\""
      ],
      "metadata": {
        "id": "g0qdmfa51svq"
      },
      "execution_count": null,
      "outputs": []
    },
    {
      "cell_type": "code",
      "source": [
        "prompt = \"cover for a book with a scientific theme, specifically in the development of drugs using artificial intelligence\""
      ],
      "metadata": {
        "id": "ObwgI64O12sr"
      },
      "execution_count": null,
      "outputs": []
    },
    {
      "cell_type": "code",
      "source": [
        "image = pipe(prompt, height=h, width=w, num_inference_steps=steps, guidance_scale=guidance, negative_prompt=neg).images[0]\n",
        "image"
      ],
      "metadata": {
        "id": "n38S4SXLsHOO"
      },
      "execution_count": null,
      "outputs": []
    },
    {
      "cell_type": "code",
      "source": [
        "image = pipe(prompt, height=h, width=w, num_inference_steps=steps, guidance_scale=guidance, negative_prompt=neg).images[0]\n",
        "image"
      ],
      "metadata": {
        "id": "fhc-EaDR15wM"
      },
      "execution_count": null,
      "outputs": []
    },
    {
      "cell_type": "markdown",
      "source": [
        "## B. Albert Einstein en Machupichu"
      ],
      "metadata": {
        "id": "jkOP361fC5RM"
      }
    },
    {
      "cell_type": "code",
      "source": [
        "pipe = StableDiffusionPipeline.from_pretrained(\"dreamlike-art/dreamlike-photoreal-2.0\", torch_dtype=torch.float16)\n",
        "pipe = pipe.to(\"cuda\")\n",
        "pipe.safety_checker = None"
      ],
      "metadata": {
        "id": "KFbQQui6C5RU"
      },
      "execution_count": null,
      "outputs": []
    },
    {
      "cell_type": "code",
      "source": [
        "h=800\n",
        "w=640\n",
        "steps=25\n",
        "guidance=7.5\n",
        "#neg = \"easynegative, lowres, bad anatomy, bad hands, text, error, missing fingers, extra digit, fewer digits, cropped, worstquality, low quality, normal quality, jpegartifacts, signature, watermark, username, blurry, bad feet, cropped, poorly drawn hands, poorly drawn face, mutation, deformed, worst quality, low quality, normal quality, jpeg artifacts, signature, watermark, extra fingers, fewer digits, extra limbs, extra arms,extra legs, malformed limbs, fused fingers, too many fingers, long neck, cross-eyed,mutated hands, polar lowres, bad body, bad proportions, gross proportions, text, error, missing fingers, missing arms, missing legs, extra digit, extra arms, extra leg, extra foot,\""
      ],
      "metadata": {
        "id": "JVEVNkkyC5RU"
      },
      "execution_count": null,
      "outputs": []
    },
    {
      "cell_type": "code",
      "source": [
        "prompt = \"Albert Einstein in Machu Picchu, full color picture\""
      ],
      "metadata": {
        "id": "kX5454g2C5RU"
      },
      "execution_count": null,
      "outputs": []
    },
    {
      "cell_type": "code",
      "source": [
        "image = pipe(prompt, height=h, width=w, num_inference_steps=steps, guidance_scale=guidance).images[0]   #, negative_prompt=neg).images[0]\n",
        "image"
      ],
      "metadata": {
        "id": "0pWzsuDTl1Rk"
      },
      "execution_count": null,
      "outputs": []
    },
    {
      "cell_type": "code",
      "source": [
        "image = pipe(prompt, height=h, width=w, num_inference_steps=steps, guidance_scale=guidance).images[0]   #, negative_prompt=neg).images[0]\n",
        "image"
      ],
      "metadata": {
        "id": "ZHe3IM8fC5RU"
      },
      "execution_count": null,
      "outputs": []
    },
    {
      "cell_type": "markdown",
      "source": [
        "## C. Fruta en la mesa"
      ],
      "metadata": {
        "id": "-Sl6gE67EWdp"
      }
    },
    {
      "cell_type": "code",
      "source": [
        "pipe = StableDiffusionPipeline.from_pretrained(\"prompthero/openjourney\", torch_dtype=torch.float16)\n",
        "pipe = pipe.to(\"cuda\")\n",
        "pipe.safety_checker = None"
      ],
      "metadata": {
        "id": "DdiS2UfHEWd1"
      },
      "execution_count": null,
      "outputs": []
    },
    {
      "cell_type": "code",
      "source": [
        "h=800\n",
        "w=640\n",
        "steps=25\n",
        "guidance=7.5\n",
        "#neg = \"easynegative, lowres, bad anatomy, bad hands, text, error, missing fingers, extra digit, fewer digits, cropped, worstquality, low quality, normal quality, jpegartifacts, signature, watermark, username, blurry, bad feet, cropped, poorly drawn hands, poorly drawn face, mutation, deformed, worst quality, low quality, normal quality, jpeg artifacts, signature, watermark, extra fingers, fewer digits, extra limbs, extra arms,extra legs, malformed limbs, fused fingers, too many fingers, long neck, cross-eyed,mutated hands, polar lowres, bad body, bad proportions, gross proportions, text, error, missing fingers, missing arms, missing legs, extra digit, extra arms, extra leg, extra foot,\""
      ],
      "metadata": {
        "id": "wIbQxegPEWd1"
      },
      "execution_count": null,
      "outputs": []
    },
    {
      "cell_type": "code",
      "source": [
        "prompt = \"pineapple in a table\" #The Little Prince (Saint-Exupéry) climbing a baobab tree\""
      ],
      "metadata": {
        "id": "VY2BfuzVEWd2"
      },
      "execution_count": null,
      "outputs": []
    },
    {
      "cell_type": "code",
      "source": [
        "image = pipe(prompt, height=h, width=w, num_inference_steps=steps, guidance_scale=guidance).images[0]   #, negative_prompt=neg).images[0]\n",
        "image"
      ],
      "metadata": {
        "id": "dvEAS0OnEWd2"
      },
      "execution_count": null,
      "outputs": []
    },
    {
      "cell_type": "markdown",
      "source": [
        "## D. Paisajes"
      ],
      "metadata": {
        "id": "XhWPvbEiHdCU"
      }
    },
    {
      "cell_type": "code",
      "source": [
        "pipe = StableDiffusionPipeline.from_pretrained(\"nota-ai/bk-sdm-small\", torch_dtype=torch.float16)\n",
        "pipe = pipe.to(\"cuda\")\n",
        "pipe.safety_checker = None"
      ],
      "metadata": {
        "id": "erUe4wcdHdCe"
      },
      "execution_count": null,
      "outputs": []
    },
    {
      "cell_type": "code",
      "source": [
        "h=800\n",
        "w=640\n",
        "steps=100\n",
        "guidance=7.5\n",
        "#neg = \"easynegative, lowres, bad anatomy, bad hands, text, error, missing fingers, extra digit, fewer digits, cropped, worstquality, low quality, normal quality, jpegartifacts, signature, watermark, username, blurry, bad feet, cropped, poorly drawn hands, poorly drawn face, mutation, deformed, worst quality, low quality, normal quality, jpeg artifacts, signature, watermark, extra fingers, fewer digits, extra limbs, extra arms,extra legs, malformed limbs, fused fingers, too many fingers, long neck, cross-eyed,mutated hands, polar lowres, bad body, bad proportions, gross proportions, text, error, missing fingers, missing arms, missing legs, extra digit, extra arms, extra leg, extra foot,\""
      ],
      "metadata": {
        "id": "suwK_F_GHdCe"
      },
      "execution_count": null,
      "outputs": []
    },
    {
      "cell_type": "code",
      "source": [
        "prompt = \"a planet with baobab trees\""
      ],
      "metadata": {
        "id": "PvO6tKspHdCf"
      },
      "execution_count": null,
      "outputs": []
    },
    {
      "cell_type": "code",
      "source": [
        "image = pipe(prompt, height=h, width=w, num_inference_steps=steps, guidance_scale=guidance, negative_prompt=neg).images[0]\n",
        "image"
      ],
      "metadata": {
        "id": "JGgyL-rPnzS0"
      },
      "execution_count": null,
      "outputs": []
    },
    {
      "cell_type": "code",
      "source": [
        "image = pipe(prompt, height=h, width=w, num_inference_steps=steps, guidance_scale=guidance).images[0]   #, negative_prompt=neg).images[0]\n",
        "image"
      ],
      "metadata": {
        "id": "rajZZ-p0HdCf"
      },
      "execution_count": null,
      "outputs": []
    },
    {
      "cell_type": "markdown",
      "source": [
        "## E. En el espacio"
      ],
      "metadata": {
        "id": "rk9HOKAmI9XX"
      }
    },
    {
      "cell_type": "code",
      "source": [
        "pipe = StableDiffusionPipeline.from_pretrained(\"redstonehero/cetusmix_v4\", torch_dtype=torch.float16)\n",
        "pipe = pipe.to(\"cuda\")\n",
        "pipe.safety_checker = None"
      ],
      "metadata": {
        "id": "-iR935BoWuOP"
      },
      "execution_count": null,
      "outputs": []
    },
    {
      "cell_type": "code",
      "source": [
        "h=800\n",
        "w=640\n",
        "steps=25\n",
        "guidance=7.5\n",
        "neg = \"easynegative, lowres, bad anatomy, bad hands, text, error, missing fingers, extra digit, fewer digits, cropped, worstquality, low quality, normal quality, jpegartifacts, signature, watermark, username, blurry, bad feet, cropped, poorly drawn hands, poorly drawn face, mutation, deformed, worst quality, low quality, normal quality, jpeg artifacts, signature, watermark, extra fingers, fewer digits, extra limbs, extra arms,extra legs, malformed limbs, fused fingers, too many fingers, long neck, cross-eyed,mutated hands, polar lowres, bad body, bad proportions, gross proportions, text, error, missing fingers, missing arms, missing legs, extra digit, extra arms, extra leg, extra foot,\""
      ],
      "metadata": {
        "id": "e3VCNL1WXLwL"
      },
      "execution_count": null,
      "outputs": []
    },
    {
      "cell_type": "code",
      "source": [
        "prompt = \"A scientific superhero in space\""
      ],
      "metadata": {
        "id": "YPwS66RPYmZi"
      },
      "execution_count": null,
      "outputs": []
    },
    {
      "cell_type": "code",
      "source": [
        "image = pipe(prompt, height=h, width=w, num_inference_steps=steps, guidance_scale=guidance, negative_prompt=neg).images[0]\n",
        "image"
      ],
      "metadata": {
        "id": "xjLJH2lGqEsi"
      },
      "execution_count": null,
      "outputs": []
    },
    {
      "cell_type": "code",
      "source": [
        "image = pipe(prompt, height=h, width=w, num_inference_steps=steps, guidance_scale=guidance, negative_prompt=neg).images[0]"
      ],
      "metadata": {
        "id": "rjEYjMa4YmZi"
      },
      "execution_count": null,
      "outputs": []
    },
    {
      "cell_type": "code",
      "source": [
        "image"
      ],
      "metadata": {
        "id": "CaRgflx3XLqx"
      },
      "execution_count": null,
      "outputs": []
    },
    {
      "cell_type": "markdown",
      "source": [
        "## F. Capibara en el agua"
      ],
      "metadata": {
        "id": "p-j8rZnVWueK"
      }
    },
    {
      "cell_type": "code",
      "source": [
        "#teragron/capybara\n",
        "pipe = StableDiffusionPipeline.from_pretrained(\"teragron/capybara\", torch_dtype=torch.float16)\n",
        "pipe = pipe.to(\"cuda\")\n",
        "pipe.safety_checker = None"
      ],
      "metadata": {
        "id": "5ZtbBXacAmba"
      },
      "execution_count": null,
      "outputs": []
    },
    {
      "cell_type": "code",
      "source": [
        "h=800\n",
        "w=640\n",
        "steps=5\n",
        "guidance=7.5\n",
        "#neg = \"easynegative, lowres, bad anatomy, bad hands, text, error, missing fingers, extra digit, fewer digits, cropped, worstquality, low quality, normal quality, jpegartifacts, signature, watermark, username, blurry, bad feet, cropped, poorly drawn hands, poorly drawn face, mutation, deformed, worst quality, low quality, normal quality, jpeg artifacts, signature, watermark, extra fingers, fewer digits, extra limbs, extra arms,extra legs, malformed limbs, fused fingers, too many fingers, long neck, cross-eyed,mutated hands, polar lowres, bad body, bad proportions, gross proportions, text, error, missing fingers, missing arms, missing legs, extra digit, extra arms, extra leg, extra foot,\""
      ],
      "metadata": {
        "id": "9AOqI4wCAyFT"
      },
      "execution_count": null,
      "outputs": []
    },
    {
      "cell_type": "code",
      "source": [
        "prompt = \"capybara in water\""
      ],
      "metadata": {
        "id": "U2k2FTwcAyB0"
      },
      "execution_count": null,
      "outputs": []
    },
    {
      "cell_type": "code",
      "source": [
        "image = pipe(prompt, height=h, width=w, num_inference_steps=steps, guidance_scale=guidance).images[0]   #, negative_prompt=neg).images[0]\n",
        "image"
      ],
      "metadata": {
        "id": "bGi1Ivc9kgMy"
      },
      "execution_count": null,
      "outputs": []
    },
    {
      "cell_type": "code",
      "source": [
        "image = pipe(prompt, height=h, width=w, num_inference_steps=steps, guidance_scale=guidance).images[0]   #, negative_prompt=neg).images[0]\n",
        "image"
      ],
      "metadata": {
        "id": "fU8V5e3JA4AL"
      },
      "execution_count": null,
      "outputs": []
    }
  ]
}